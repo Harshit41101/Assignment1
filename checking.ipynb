{
 "cells": [
  {
   "cell_type": "code",
   "execution_count": 2,
   "id": "05cc99ab-0a80-4fff-917b-cfbc3f8e96d6",
   "metadata": {},
   "outputs": [],
   "source": [
    "l = [1,2,3,4,5,6,'abc','harsh','45',45,57]"
   ]
  },
  {
   "cell_type": "code",
   "execution_count": null,
   "id": "e319f4d9-e8c3-4f0e-80fd-50566088cf0e",
   "metadata": {},
   "outputs": [],
   "source": [
    "l1_num = []\n",
    "l2_str = []\n",
    "for i in l:\n",
    "    if type(i)==str:\n",
    "        l2_str.append = []"
   ]
  }
 ],
 "metadata": {
  "kernelspec": {
   "display_name": "Python 3 (ipykernel)",
   "language": "python",
   "name": "python3"
  },
  "language_info": {
   "codemirror_mode": {
    "name": "ipython",
    "version": 3
   },
   "file_extension": ".py",
   "mimetype": "text/x-python",
   "name": "python",
   "nbconvert_exporter": "python",
   "pygments_lexer": "ipython3",
   "version": "3.10.8"
  }
 },
 "nbformat": 4,
 "nbformat_minor": 5
}
